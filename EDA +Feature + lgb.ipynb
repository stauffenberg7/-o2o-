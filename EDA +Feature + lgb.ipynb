{
 "cells": [
  {
   "cell_type": "code",
   "execution_count": 1,
   "metadata": {},
   "outputs": [],
   "source": [
    "import pandas as pd \n",
    "import numpy as np\n",
    "%matplotlib inline\n",
    "import matplotlib.pyplot as plt\n",
    "import seaborn as sns\n",
    "from datetime import date"
   ]
  },
  {
   "cell_type": "code",
   "execution_count": 2,
   "metadata": {},
   "outputs": [],
   "source": [
    "off_train = pd.read_csv('ccf_offline_stage1_train.csv')\n",
    "off_test = pd.read_csv('ccf_offline_stage1_test_revised.csv')"
   ]
  },
  {
   "cell_type": "code",
   "execution_count": 55,
   "metadata": {},
   "outputs": [
    {
     "name": "stdout",
     "output_type": "stream",
     "text": [
      "(1754884, 19)\n",
      "(113640, 17)\n"
     ]
    }
   ],
   "source": [
    "print(off_train.shape)\n",
    "print(off_test.shape)"
   ]
  },
  {
   "cell_type": "code",
   "execution_count": 4,
   "metadata": {
    "scrolled": true
   },
   "outputs": [
    {
     "name": "stdout",
     "output_type": "stream",
     "text": [
      "<class 'pandas.core.frame.DataFrame'>\n",
      "RangeIndex: 1754884 entries, 0 to 1754883\n",
      "Data columns (total 7 columns):\n",
      "User_id          int64\n",
      "Merchant_id      int64\n",
      "Coupon_id        float64\n",
      "Discount_rate    object\n",
      "Distance         float64\n",
      "Date_received    float64\n",
      "Date             float64\n",
      "dtypes: float64(4), int64(2), object(1)\n",
      "memory usage: 93.7+ MB\n"
     ]
    }
   ],
   "source": [
    "off_train.info()"
   ]
  },
  {
   "cell_type": "code",
   "execution_count": 15,
   "metadata": {},
   "outputs": [],
   "source": [
    "#定义缺失值检测函数\n",
    "def MissingValuesFunc(df):\n",
    "    mis_val = df.isnull().sum()\n",
    "    mis_val_percent = (df.isnull().sum()/len(df)) * 100\n",
    "    mis_val_table = pd.concat([mis_val,mis_val_percent],axis=1)\n",
    "    mis_val_table = mis_val_table.rename(columns = {0:'缺失值', 1 : '缺失率(%)'})\n",
    "    mis_val_table = mis_val_table[mis_val_table.iloc[:,1] != 0].sort_values('缺失率(%)',ascending=False)\n",
    "    return mis_val_table"
   ]
  },
  {
   "cell_type": "code",
   "execution_count": 16,
   "metadata": {},
   "outputs": [
    {
     "data": {
      "text/html": [
       "<div>\n",
       "<style scoped>\n",
       "    .dataframe tbody tr th:only-of-type {\n",
       "        vertical-align: middle;\n",
       "    }\n",
       "\n",
       "    .dataframe tbody tr th {\n",
       "        vertical-align: top;\n",
       "    }\n",
       "\n",
       "    .dataframe thead th {\n",
       "        text-align: right;\n",
       "    }\n",
       "</style>\n",
       "<table border=\"1\" class=\"dataframe\">\n",
       "  <thead>\n",
       "    <tr style=\"text-align: right;\">\n",
       "      <th></th>\n",
       "      <th>缺失值</th>\n",
       "      <th>缺失率(%)</th>\n",
       "    </tr>\n",
       "  </thead>\n",
       "  <tbody>\n",
       "    <tr>\n",
       "      <th>Date</th>\n",
       "      <td>977900</td>\n",
       "      <td>92.843132</td>\n",
       "    </tr>\n",
       "    <tr>\n",
       "      <th>Distance</th>\n",
       "      <td>106003</td>\n",
       "      <td>10.064066</td>\n",
       "    </tr>\n",
       "    <tr>\n",
       "      <th>discount_man</th>\n",
       "      <td>33272</td>\n",
       "      <td>3.158888</td>\n",
       "    </tr>\n",
       "    <tr>\n",
       "      <th>discount_jian</th>\n",
       "      <td>33272</td>\n",
       "      <td>3.158888</td>\n",
       "    </tr>\n",
       "  </tbody>\n",
       "</table>\n",
       "</div>"
      ],
      "text/plain": [
       "                  缺失值     缺失率(%)\n",
       "Date           977900  92.843132\n",
       "Distance       106003  10.064066\n",
       "discount_man    33272   3.158888\n",
       "discount_jian   33272   3.158888"
      ]
     },
     "execution_count": 16,
     "metadata": {},
     "output_type": "execute_result"
    }
   ],
   "source": [
    "#线下训练集优惠券消费的缺失值\n",
    "missing_off_train = MissingValuesFunc(off_train)\n",
    "missing_off_train"
   ]
  },
  {
   "cell_type": "code",
   "execution_count": 47,
   "metadata": {},
   "outputs": [
    {
     "data": {
      "text/html": [
       "<div>\n",
       "<style scoped>\n",
       "    .dataframe tbody tr th:only-of-type {\n",
       "        vertical-align: middle;\n",
       "    }\n",
       "\n",
       "    .dataframe tbody tr th {\n",
       "        vertical-align: top;\n",
       "    }\n",
       "\n",
       "    .dataframe thead th {\n",
       "        text-align: right;\n",
       "    }\n",
       "</style>\n",
       "<table border=\"1\" class=\"dataframe\">\n",
       "  <thead>\n",
       "    <tr style=\"text-align: right;\">\n",
       "      <th></th>\n",
       "      <th>缺失值</th>\n",
       "      <th>缺失率(%)</th>\n",
       "    </tr>\n",
       "  </thead>\n",
       "  <tbody>\n",
       "    <tr>\n",
       "      <th>Distance</th>\n",
       "      <td>12064</td>\n",
       "      <td>10.615980</td>\n",
       "    </tr>\n",
       "    <tr>\n",
       "      <th>discount_man</th>\n",
       "      <td>2566</td>\n",
       "      <td>2.258008</td>\n",
       "    </tr>\n",
       "    <tr>\n",
       "      <th>discount_jian</th>\n",
       "      <td>2566</td>\n",
       "      <td>2.258008</td>\n",
       "    </tr>\n",
       "  </tbody>\n",
       "</table>\n",
       "</div>"
      ],
      "text/plain": [
       "                 缺失值     缺失率(%)\n",
       "Distance       12064  10.615980\n",
       "discount_man    2566   2.258008\n",
       "discount_jian   2566   2.258008"
      ]
     },
     "execution_count": 47,
     "metadata": {},
     "output_type": "execute_result"
    }
   ],
   "source": [
    "#线下测试集优惠券消费的缺失值\n",
    "missing_off_test = MissingValuesFunc(off_test)\n",
    "missing_off_test"
   ]
  },
  {
   "cell_type": "code",
   "execution_count": 3,
   "metadata": {},
   "outputs": [],
   "source": [
    "#将Date_received和Date转换为时间格式\n",
    "off_train['Date_received'] = pd.to_datetime(off_train['Date_received'],format='%Y%m%d')\n",
    "off_train['Date'] = pd.to_datetime(off_train['Date'],format='%Y%m%d')"
   ]
  },
  {
   "cell_type": "code",
   "execution_count": 4,
   "metadata": {},
   "outputs": [],
   "source": [
    "#定义目标变量\n",
    "def TargetFunc(df):\n",
    "    if pd.isnull(df['Date_received']):\n",
    "        return -1 \n",
    "    elif pd.notnull(df['Date']):\n",
    "        if ((df['Date'] - df['Date_received']).days) <= 15:\n",
    "            return 1 \n",
    "    return 0 "
   ]
  },
  {
   "cell_type": "code",
   "execution_count": 5,
   "metadata": {},
   "outputs": [],
   "source": [
    "off_train['Target'] = off_train.apply(TargetFunc,axis=1)"
   ]
  },
  {
   "cell_type": "code",
   "execution_count": 7,
   "metadata": {},
   "outputs": [
    {
     "data": {
      "text/plain": [
       "0    988887\n",
       "1     64395\n",
       "Name: Target, dtype: int64"
      ]
     },
     "execution_count": 7,
     "metadata": {},
     "output_type": "execute_result"
    }
   ],
   "source": [
    "off_train['Target'].value_counts()"
   ]
  },
  {
   "cell_type": "code",
   "execution_count": 138,
   "metadata": {},
   "outputs": [
    {
     "data": {
      "text/plain": [
       "(1053282, 12)"
      ]
     },
     "execution_count": 138,
     "metadata": {},
     "output_type": "execute_result"
    }
   ],
   "source": [
    "off_train.shape"
   ]
  },
  {
   "cell_type": "code",
   "execution_count": 6,
   "metadata": {},
   "outputs": [],
   "source": [
    "#处理Discount_rate列中的折扣类型，生成新的特征\n",
    "def DiscountType(x):\n",
    "    if pd.isnull(x):\n",
    "        return np.nan\n",
    "    elif ':' in x:\n",
    "        return 1\n",
    "    elif '.' in x:\n",
    "        return 0\n",
    "\n",
    "def ConvertRate(x):\n",
    "    if pd.isnull(x):\n",
    "        return np.nan\n",
    "    elif ':' in x:\n",
    "        x_split = x.split(':')\n",
    "        return 1.0 - float(x_split[1])/float(x_split[0])\n",
    "    elif '.' in x:\n",
    "        return float(x)\n",
    "\n",
    "def DiscountMan(x):\n",
    "    if pd.isnull(x):\n",
    "        return np.nan\n",
    "    elif ':'in x:\n",
    "        x_split = x.split(':')\n",
    "        return int(x_split[0])\n",
    "    else:\n",
    "        return np.nan\n",
    "\n",
    "def DiscountJian(x):\n",
    "    if pd.isnull(x):\n",
    "        return np.nan\n",
    "    elif ':'in x:\n",
    "        x_split = x.split(':')\n",
    "        return int(x_split[1])\n",
    "    else:\n",
    "        return np.nan"
   ]
  },
  {
   "cell_type": "code",
   "execution_count": 7,
   "metadata": {},
   "outputs": [],
   "source": [
    "def DiscountFunc(df):\n",
    "    df['discount_rate'] = df['Discount_rate'].apply(ConvertRate)\n",
    "    df['discount_man'] = df['Discount_rate'].apply(DiscountMan)\n",
    "    df['discount_jian'] = df['Discount_rate'].apply(DiscountJian)\n",
    "    df['discount_type'] = df['Discount_rate'].apply(DiscountType)\n",
    "    return df"
   ]
  },
  {
   "cell_type": "code",
   "execution_count": 8,
   "metadata": {},
   "outputs": [],
   "source": [
    "off_train = DiscountFunc(off_train)\n",
    "off_test = DiscountFunc(off_test)"
   ]
  },
  {
   "cell_type": "code",
   "execution_count": 9,
   "metadata": {},
   "outputs": [],
   "source": [
    "off_train.drop('Discount_rate',axis=1,inplace=True)\n",
    "off_test.drop('Discount_rate',axis=1,inplace=True)"
   ]
  },
  {
   "cell_type": "code",
   "execution_count": 12,
   "metadata": {},
   "outputs": [
    {
     "name": "stdout",
     "output_type": "stream",
     "text": [
      "(1053282, 11)\n",
      "(113640, 9)\n"
     ]
    }
   ],
   "source": [
    "print(off_train.shape)\n",
    "print(off_test.shape)"
   ]
  },
  {
   "cell_type": "code",
   "execution_count": 31,
   "metadata": {},
   "outputs": [],
   "source": [
    "def PlotStats(feature):\n",
    "    temp = off_train[feature].value_counts()\n",
    "    df1 = pd.DataFrame({feature: temp.index,'数量': temp.values})\n",
    "    \n",
    "    df2 = off_train[(off_train['Target'] == 0) | (off_train['Target'] == 1) ].groupby(feature,as_index=False)['Target'].mean()\n",
    "    df2.sort_values(by='Target', ascending=False, inplace=True)\n",
    "    \n",
    "    plt.figure(figsize=(16,6))\n",
    "    plt.rcParams['font.sans-serif']=['SimHei']\n",
    "    \n",
    "    plt.subplot(1,2,1)\n",
    "    sns.barplot(x=feature, y=\"数量\",data=df1)\n",
    "    \n",
    "    plt.subplot(1,2,2)\n",
    "    sns.barplot(x=feature, y='Target', order=df2[feature], data=df2)\n",
    "    plt.ylabel('核销率占比 [%]', fontsize=10)\n",
    "    \n",
    "    "
   ]
  },
  {
   "cell_type": "code",
   "execution_count": 59,
   "metadata": {},
   "outputs": [
    {
     "data": {
      "image/png": "[encoded data removed]",
      "text/plain": [
       "<Figure size 864x432 with 2 Axes>"
      ]
     },
     "metadata": {
      "needs_background": "light"
     },
     "output_type": "display_data"
    }
   ],
   "source": [
    "#虽然折扣类型中直接折扣比满减的数量要少，但是直接折扣的核销率更高\n",
    "PlotStats('discount_type')"
   ]
  },
  {
   "cell_type": "code",
   "execution_count": 60,
   "metadata": {},
   "outputs": [
    {
     "data": {
      "image/png": "[encoded data removed]",
      "text/plain": [
       "<Figure size 864x432 with 2 Axes>"
      ]
     },
     "metadata": {
      "needs_background": "light"
     },
     "output_type": "display_data"
    }
   ],
   "source": [
    "#优惠券折扣门槛的价格越高，核销率越低\n",
    "PlotStats('discount_man')"
   ]
  },
  {
   "cell_type": "code",
   "execution_count": 61,
   "metadata": {},
   "outputs": [
    {
     "data": {
      "image/png": "[encoded data removed]",
      "text/plain": [
       "<Figure size 864x432 with 2 Axes>"
      ]
     },
     "metadata": {
      "needs_background": "light"
     },
     "output_type": "display_data"
    }
   ],
   "source": [
    "#减100的优惠券和减1、5的优惠券核销率更高，反而减的不多不少的核销率较低\n",
    "PlotStats('discount_jian')"
   ]
  },
  {
   "cell_type": "code",
   "execution_count": 62,
   "metadata": {},
   "outputs": [
    {
     "data": {
      "image/png": "[encoded data removed]",
      "text/plain": [
       "<Figure size 864x432 with 2 Axes>"
      ]
     },
     "metadata": {
      "needs_background": "light"
     },
     "output_type": "display_data"
    }
   ],
   "source": [
    "#user经常活动的地点离门店距离越近，核销率越高\n",
    "PlotStats('Distance')"
   ]
  },
  {
   "cell_type": "code",
   "execution_count": 42,
   "metadata": {},
   "outputs": [],
   "source": [
    "def PlotKde(feature):\n",
    "    plt.figure(figsize = (12, 6))\n",
    "    sns.kdeplot(off_train.loc[off_train['Target'] == 0, feature], label = 'Target == 0')\n",
    "    sns.kdeplot(off_train.loc[off_train['Target'] == 1, feature], label = 'Target == 1')\n",
    "    plt.rcParams['font.sans-serif']=['SimHei']\n",
    "    plt.rcParams['axes.unicode_minus']=False\n",
    "    plt.title('%s 优惠券消费情况分布' % feature)\n",
    "    plt.xlabel('%s' % feature)\n",
    "    plt.ylabel('Density')"
   ]
  },
  {
   "cell_type": "code",
   "execution_count": 43,
   "metadata": {},
   "outputs": [
    {
     "data": {
      "image/png": "[encoded data removed]",
      "text/plain": [
       "<Figure size 864x432 with 1 Axes>"
      ]
     },
     "metadata": {
      "needs_background": "light"
     },
     "output_type": "display_data"
    }
   ],
   "source": [
    "#优惠券直接折扣率集中在0.7至0.95之间，优惠券的使用在0.8折扣附近更高，不使用的优惠券在0.8至0.9之间更高\n",
    "PlotKde('discount_rate')"
   ]
  },
  {
   "cell_type": "code",
   "execution_count": 11,
   "metadata": {},
   "outputs": [],
   "source": [
    "#线下领取优惠券的日期是一周中的第几天\n",
    "off_train['day_of_week'] = off_train['Date_received'].dt.dayofweek"
   ]
  },
  {
   "cell_type": "code",
   "execution_count": 12,
   "metadata": {},
   "outputs": [],
   "source": [
    "off_test['day_of_week'] = pd.to_datetime(off_test['Date_received'], format='%Y%m%d').dt.dayofweek"
   ]
  },
  {
   "cell_type": "code",
   "execution_count": 32,
   "metadata": {},
   "outputs": [
    {
     "data": {
      "image/png": "[encoded data removed]",
      "text/plain": [
       "<Figure size 1152x432 with 2 Axes>"
      ]
     },
     "metadata": {
      "needs_background": "light"
     },
     "output_type": "display_data"
    }
   ],
   "source": [
    "#线下周末领取优惠券的核销率较低，星期六领的最多却用的最少\n",
    "PlotStats('day_of_week')"
   ]
  },
  {
   "cell_type": "code",
   "execution_count": 13,
   "metadata": {},
   "outputs": [],
   "source": [
    "weekdaycols = ['weekday_' + str(i) for i in range(0,7)]\n",
    "\n",
    "week_train = pd.get_dummies(off_train['day_of_week'])\n",
    "week_train.columns = weekdaycols\n",
    "off_train[weekdaycols] = week_train\n",
    "\n",
    "week_test = pd.get_dummies(off_test['day_of_week'])\n",
    "week_test.columns = weekdaycols\n",
    "off_test[weekdaycols] = week_test"
   ]
  },
  {
   "cell_type": "code",
   "execution_count": 14,
   "metadata": {},
   "outputs": [
    {
     "name": "stdout",
     "output_type": "stream",
     "text": [
      "0    229715\n",
      "1     22871\n",
      "Name: Target, dtype: int64\n"
     ]
    }
   ],
   "source": [
    "feature = off_train[(off_train['Date'] < '20160516') | ((off_train['Date'] == 'null') & (off_train['Date_received'] < '20160516'))].copy()\n",
    "feature['rec_con_interval'] = (feature['Date'] - feature['Date_received']).dt.days\n",
    "data = off_train[(off_train['Date_received'] >= '20160516') & (off_train['Date_received'] <= '20160615')].copy()\n",
    "print(data['Target'].value_counts())"
   ]
  },
  {
   "cell_type": "code",
   "execution_count": 15,
   "metadata": {},
   "outputs": [],
   "source": [
    "def UserFeature(df):\n",
    "    u_unique_id = df[['User_id']].copy().drop_duplicates()\n",
    "    #用户线下领取优惠券总次数\n",
    "    u_rec_count = df.groupby('User_id',as_index=False)['Date_received'].count().rename(columns={'Date_received':'u_rec_count'})\n",
    "    #用户线下优惠券核销总次数\n",
    "    u_con_count = df.groupby('User_id',as_index=False)['Date'].count().rename(columns={'Date':'u_con_count'})\n",
    "    #用户线下优惠券核销商家数\n",
    "    u_con_m_count = df.groupby('User_id')['Merchant_id'].nunique().reset_index().rename(columns={'Merchant_id':'u_con_m_count'})\n",
    "    #用户线下满减优惠券平均核销门槛\n",
    "    u_man_con_thre_mean = df.groupby('User_id',as_index=False)['discount_man'].mean().rename(columns={'discount_man':'u_man_con_thre_mean'})\n",
    "    #用户线下满减优惠券最大核销门槛\n",
    "    u_man_con_thre_max = df.groupby('User_id',as_index=False)['discount_man'].max().rename(columns={'discount_man':'u_man_con_thre_max'})\n",
    "    #用户线下满减优惠券最小核销门槛\n",
    "    u_man_con_thre_min = df.groupby('User_id',as_index=False)['discount_man'].min().rename(columns={'discount_man':'u_man_con_thre_min'})\n",
    "    #用户线下优惠券核销平均折扣率\n",
    "    u_con_dis_rate_mean = df.groupby('User_id',as_index=False)['discount_rate'].mean().rename(columns={'discount_rate':'u_con_dis_rate_mean'})\n",
    "    #用户线下优惠券核销最大折扣率\n",
    "    u_con_dis_rate_max = df.groupby('User_id',as_index=False)['discount_rate'].max().rename(columns={'discount_rate':'u_con_dis_rate_max'})\n",
    "    #用户线下优惠券核销最小折扣率\n",
    "    u_con_dis_rate_min= df.groupby('User_id',as_index=False)['discount_rate'].min().rename(columns={'discount_rate':'u_con_dis_rate_min'}) \n",
    "    #用户线下优惠券核销的平均距离\n",
    "    u_con_dist_mean = df.groupby('User_id',as_index=False)['Distance'].mean().rename(columns={'Distance':'u_con_dist_mean'})\n",
    "    #用户线下优惠券核销的最大距离\n",
    "    u_con_dist_max = df.groupby('User_id',as_index=False)['Distance'].max().rename(columns={'Distance':'u_con_dist_max'})\n",
    "    #用户线下优惠券核销的最小距离\n",
    "    u_con_dist_min = df.groupby('User_id',as_index=False)['Distance'].min().rename(columns={'Distance':'u_con_dist_min'})\n",
    "    #用户线下满减优惠券领取次数\n",
    "    u_manjian_rec_count = df[df['discount_man'].notnull()].groupby('User_id',as_index=False)['Date_received'].count().rename(columns={'Date_received':'u_manjian_rec_count'})\n",
    "    #用户线下满减优惠券核销次数\n",
    "    u_manjian_con_count = df[df['discount_man'].notnull()].groupby('User_id',as_index=False)['Date'].count().rename(columns={'Date':'u_manjian_con_count'})\n",
    "    #用户线下优惠券核销平均时间间隔\n",
    "    u_interval_mean = df.groupby('User_id',as_index=False)['rec_con_interval'].mean().rename(columns={'rec_con_interval':'u_interval_mean'})\n",
    "    #用户线下优惠券核销最大时间间隔\n",
    "    u_interval_max = df.groupby('User_id',as_index=False)['rec_con_interval'].max().rename(columns={'rec_con_interval':'u_interval_max'})\n",
    "    #用户线下优惠券核销最小时间间隔\n",
    "    u_interval_min = df.groupby('User_id',as_index=False)['rec_con_interval'].min().rename(columns={'rec_con_interval':'u_interval_min'})\n",
    "    \n",
    "    \n",
    "    \n",
    "    user_feature = pd.merge(u_unique_id,u_rec_count, on = 'User_id', how = 'left')\n",
    "    user_feature = pd.merge(user_feature, u_con_count, on = 'User_id', how = 'left')\n",
    "    user_feature = pd.merge(user_feature, u_con_m_count, on = 'User_id', how = 'left')\n",
    "    user_feature = pd.merge(user_feature, u_man_con_thre_mean, on = 'User_id', how = 'left')\n",
    "    user_feature = pd.merge(user_feature, u_man_con_thre_max, on = 'User_id', how = 'left')\n",
    "    user_feature = pd.merge(user_feature, u_man_con_thre_min, on = 'User_id', how = 'left')\n",
    "    user_feature = pd.merge(user_feature, u_con_dis_rate_mean, on = 'User_id', how = 'left')\n",
    "    user_feature = pd.merge(user_feature, u_con_dis_rate_max, on = 'User_id', how = 'left')\n",
    "    user_feature = pd.merge(user_feature, u_con_dis_rate_min, on = 'User_id', how = 'left')\n",
    "    user_feature = pd.merge(user_feature, u_con_dist_mean, on = 'User_id', how = 'left')\n",
    "    user_feature = pd.merge(user_feature, u_con_dist_max, on = 'User_id', how = 'left')\n",
    "    user_feature = pd.merge(user_feature, u_con_dist_min, on = 'User_id', how = 'left')\n",
    "    user_feature = pd.merge(user_feature, u_manjian_rec_count, on = 'User_id', how = 'left')\n",
    "    user_feature = pd.merge(user_feature, u_manjian_con_count, on = 'User_id', how = 'left')\n",
    "    user_feature = pd.merge(user_feature, u_interval_mean, on = 'User_id', how = 'left')\n",
    "    user_feature = pd.merge(user_feature, u_interval_max, on = 'User_id', how = 'left')\n",
    "    user_feature = pd.merge(user_feature, u_interval_min, on = 'User_id', how = 'left')\n",
    "    \n",
    "    #用户线下优惠券核销率\n",
    "    user_feature['u_rec_con_rate'] = user_feature['u_con_count'] / user_feature['u_rec_count']\n",
    "    #用户线下满减优惠券核销率\n",
    "    user_feature['u_manjian_rate'] = user_feature['u_manjian_con_count'] / user_feature['u_manjian_rec_count']\n",
    "    #用户线下满减优惠券核销数占比\n",
    "    user_feature['u_manjian_con_per'] = user_feature['u_manjian_con_count'] / user_feature['u_con_count']\n",
    "    \n",
    "    user_feature.fillna(0,inplace=True)\n",
    "    \n",
    "    print(user_feature.columns.tolist())\n",
    "    return user_feature"
   ]
  },
  {
   "cell_type": "code",
   "execution_count": 16,
   "metadata": {},
   "outputs": [],
   "source": [
    "def MerchantFeature(df):\n",
    "    m_unique_id = df[['Merchant_id']].copy().drop_duplicates()\n",
    "    #商家线下优惠券领取次数\n",
    "    m_rec_count = df.groupby('Merchant_id',as_index=False)['Date_received'].count().rename(columns={'Date_received':'m_rec_count'})\n",
    "    #商家线下优惠券核销次数\n",
    "    m_con_count = df[df['Coupon_id'].notnull()].groupby('Merchant_id',as_index=False)['Date'].count().rename(columns={'Date':'m_con_count'})\n",
    "    #商家线下优惠券核销平均折扣率\n",
    "    m_con_dis_rate_mean = df.groupby('Merchant_id',as_index=False)['discount_rate'].mean().rename(columns={'discount_rate':'m_con_dis_rate_mean'})\n",
    "    #商家线下优惠券核销最大折扣率\n",
    "    m_con_dis_rate_max = df.groupby('Merchant_id',as_index=False)['discount_rate'].max().rename(columns={'discount_rate':'m_con_dis_rate_max'})\n",
    "    #商家线下优惠券核销最小折扣率\n",
    "    m_con_dis_rate_min = df.groupby('Merchant_id',as_index=False)['discount_rate'].min().rename(columns={'discount_rate':'m_con_dis_rate_min'})\n",
    "    #商家线下优惠券核销的不同用户总数\n",
    "    m_con_u_count = df.groupby('Merchant_id')['User_id'].nunique().reset_index().rename(columns={'User_id':'m_con_u_count'})\n",
    "    #商家线下优惠券核销的不同种类数\n",
    "    m_con_c_count = df.groupby('Merchant_id')['Coupon_id'].nunique().reset_index().rename(columns={'Coupon_id':'m_con_c_count'})\n",
    "    #商家线下优惠券核销的平均距离\n",
    "    m_con_dist_mean = df.groupby('Merchant_id',as_index=False)['Distance'].mean().rename(columns={'Distance':'m_con_dist_mean'})\n",
    "    #商家线下优惠券核销的最大距离\n",
    "    m_con_dist_max = df.groupby('Merchant_id',as_index=False)['Distance'].max().rename(columns={'Distance':'m_con_dist_max'})\n",
    "    #商家线下优惠券核销的最小距离\n",
    "    m_con_dist_min = df.groupby('Merchant_id',as_index=False)['Distance'].min().rename(columns={'Distance':'m_con_dist_min'})\n",
    "    #商家线下满减优惠券领取次数\n",
    "    m_manjian_rec_count = df[df['discount_man'].notnull()].groupby('Merchant_id',as_index=False)['Date_received'].count().rename(columns={'Date_received':'m_manjian_rec_count'})\n",
    "    #商家线下满减优惠券核销次数\n",
    "    m_manjian_con_count = df[df['discount_man'].notnull()].groupby('Merchant_id',as_index=False)['Date'].count().rename(columns={'Date':'m_manjian_con_count'})\n",
    "    #商家线下满减优惠券核销平均门槛\n",
    "    m_man_con_thre_mean = df.groupby('Merchant_id',as_index=False)['discount_man'].mean().rename(columns={'discount_man':'m_man_con_thre_mean'})\n",
    "    #商家线下满减优惠券核销最大门槛\n",
    "    m_man_con_thre_max = df.groupby('Merchant_id',as_index=False)['discount_man'].max().rename(columns={'discount_man':'m_man_con_thre_max'})\n",
    "    #商家线下满减优惠券核销最小门槛\n",
    "    m_man_con_thre_min = df.groupby('Merchant_id',as_index=False)['discount_man'].min().rename(columns={'discount_man':'m_man_con_thre_min'}) \n",
    "    #商家线下优惠券核销平均时间间隔\n",
    "    m_interval_mean = df.groupby('Merchant_id',as_index=False)['rec_con_interval'].mean().rename(columns={'rec_con_interval':'m_interval_mean'})\n",
    "    #商家线下优惠券核销最大时间间隔\n",
    "    m_interval_max = df.groupby('Merchant_id',as_index=False)['rec_con_interval'].max().rename(columns={'rec_con_interval':'m_interval_max'})\n",
    "    #商家线下优惠券核销最小时间间隔\n",
    "    m_interval_min = df.groupby('Merchant_id',as_index=False)['rec_con_interval'].min().rename(columns={'rec_con_interval':'m_interval_min'})\n",
    "    \n",
    "    \n",
    "    merchant_feature = pd.merge(m_unique_id,m_rec_count, on = 'Merchant_id', how = 'left')\n",
    "    merchant_feature = pd.merge(merchant_feature, m_con_count, on = 'Merchant_id', how = 'left')\n",
    "    merchant_feature = pd.merge(merchant_feature, m_con_dis_rate_mean, on = 'Merchant_id', how = 'left')\n",
    "    merchant_feature = pd.merge(merchant_feature, m_con_dis_rate_max, on = 'Merchant_id', how = 'left')\n",
    "    merchant_feature = pd.merge(merchant_feature, m_con_dis_rate_min, on = 'Merchant_id', how = 'left')\n",
    "    merchant_feature = pd.merge(merchant_feature, m_con_u_count, on = 'Merchant_id', how = 'left')\n",
    "    merchant_feature = pd.merge(merchant_feature, m_con_c_count, on = 'Merchant_id', how = 'left')\n",
    "    merchant_feature = pd.merge(merchant_feature, m_con_dist_mean, on = 'Merchant_id', how = 'left')\n",
    "    merchant_feature = pd.merge(merchant_feature, m_con_dist_max, on = 'Merchant_id', how = 'left')\n",
    "    merchant_feature = pd.merge(merchant_feature, m_con_dist_min, on = 'Merchant_id', how = 'left')\n",
    "    merchant_feature = pd.merge(merchant_feature, m_manjian_rec_count, on = 'Merchant_id', how = 'left')\n",
    "    merchant_feature = pd.merge(merchant_feature, m_manjian_con_count, on = 'Merchant_id', how = 'left')\n",
    "    merchant_feature = pd.merge(merchant_feature, m_man_con_thre_mean, on = 'Merchant_id', how = 'left')\n",
    "    merchant_feature = pd.merge(merchant_feature, m_man_con_thre_max, on = 'Merchant_id', how = 'left')\n",
    "    merchant_feature = pd.merge(merchant_feature, m_man_con_thre_min, on = 'Merchant_id', how = 'left')\n",
    "    merchant_feature = pd.merge(merchant_feature, m_interval_mean, on = 'Merchant_id', how = 'left')\n",
    "    merchant_feature = pd.merge(merchant_feature, m_interval_max, on = 'Merchant_id', how = 'left')\n",
    "    merchant_feature = pd.merge(merchant_feature, m_interval_min, on = 'Merchant_id', how = 'left')\n",
    "    \n",
    "    #商家线下优惠券核销率\n",
    "    merchant_feature['m_rec_con_rate'] = merchant_feature['m_con_count'] / merchant_feature['m_rec_count']\n",
    "    #商家线下满减优惠券核销率\n",
    "    merchant_feature['m_manjian_rate'] = merchant_feature['m_manjian_con_count'] / merchant_feature['m_manjian_rec_count']\n",
    "    #商家线下满减优惠券核销数占比\n",
    "    merchant_feature['m_manjian_con_per'] = merchant_feature['m_manjian_con_count'] / merchant_feature['m_con_count']\n",
    "    \n",
    "    merchant_feature.fillna(0,inplace=True)\n",
    "    \n",
    "    print(merchant_feature.columns.tolist())\n",
    "    return merchant_feature    "
   ]
  },
  {
   "cell_type": "code",
   "execution_count": 29,
   "metadata": {},
   "outputs": [],
   "source": [
    "def UserMerchantFeature(df):\n",
    "    um = df[['User_id', 'Merchant_id']].copy().drop_duplicates()\n",
    "    \n",
    "    #用户购买次数\n",
    "    um1 = df[['User_id','Merchant_id','Date']]\n",
    "    um1 = um1[um1['Date'].notnull()][['User_id','Merchant_id']]\n",
    "    um1['um_buy_total'] = 1\n",
    "    um1 = um1.groupby(['User_id','Merchant_id']).agg('sum').reset_index()\n",
    "    um1.drop_duplicates(inplace=True)\n",
    "\n",
    "    #用户领取商家优惠券次数\n",
    "    um2 = df[['User_id','Merchant_id','Coupon_id']]\n",
    "    um2 = um2[um2['Coupon_id'].notnull()][['User_id','Merchant_id']]\n",
    "    um2['um_rec'] = 1\n",
    "    um2 = um2.groupby(['User_id','Merchant_id']).agg('sum').reset_index()\n",
    "    um2.drop_duplicates(inplace=True)\n",
    "\n",
    "    #用户领取商家优惠券后的核销次数\n",
    "    um3 = df[['User_id','Merchant_id','Date','Date_received']]\n",
    "    um3 = um3[(um3['Date'].notnull())&(um3['Date_received'].notnull())][['User_id','Merchant_id']]\n",
    "    um3['um_buy_use_coupon'] = 1\n",
    "    um3 = um3.groupby(['User_id','Merchant_id']).agg('sum').reset_index()\n",
    "    um3.drop_duplicates(inplace=True)\n",
    "\n",
    "    um4 = df[['User_id','Merchant_id']]\n",
    "    um4['um_any'] = 1\n",
    "    um4 = um4.groupby(['User_id','Merchant_id']).agg('sum').reset_index()\n",
    "    um4.drop_duplicates(inplace=True)\n",
    "\n",
    "    #用户领取商家优惠券后未核销次数\n",
    "    um5 = df[['User_id','Merchant_id','Date','Coupon_id']]\n",
    "    um5 = um5[(um5['Date'].notnull())&(um5['Coupon_id'].isnull())][['User_id','Merchant_id']]\n",
    "    um5['um_buy_common'] = 1\n",
    "    um5 = um5.groupby(['User_id','Merchant_id']).agg('sum').reset_index()\n",
    "    um5.drop_duplicates(inplace=True)\n",
    "\n",
    "    user_merchant_feature = pd.merge(um, um1, on = ['User_id','Merchant_id'], how = 'left')\n",
    "    user_merchant_feature = pd.merge(user_merchant_feature, um2, on = ['User_id','Merchant_id'], how = 'left')\n",
    "    user_merchant_feature = pd.merge(user_merchant_feature, um3, on = ['User_id','Merchant_id'], how = 'left')\n",
    "    user_merchant_feature = pd.merge(user_merchant_feature, um4, on = ['User_id','Merchant_id'], how = 'left')\n",
    "    user_merchant_feature = pd.merge(user_merchant_feature, um5, on = ['User_id','Merchant_id'], how = 'left')\n",
    "\n",
    "\n",
    "    user_merchant_feature['um_buy_use_coupon'] = user_merchant_feature['um_buy_use_coupon'].replace(np.nan,0)\n",
    "    user_merchant_feature['um_buy_common'] = user_merchant_feature['um_buy_common'].replace(np.nan,0)\n",
    "    user_merchant_feature['um_coupon_transfer_rate'] = user_merchant_feature['um_buy_use_coupon'].astype('float') / user_merchant_feature['um_rec'].astype('float')\n",
    "    user_merchant_feature['um_coupon_buy_rate'] = user_merchant_feature['um_buy_use_coupon'].astype('float') / user_merchant_feature['um_buy_total'].astype('float')\n",
    "    user_merchant_feature['um_rate'] = user_merchant_feature['um_buy_total'].astype('float') / user_merchant_feature['um_any'].astype('float')\n",
    "    user_merchant_feature['um_common_buy_rate'] = user_merchant_feature['um_buy_common'].astype('float') / user_merchant_feature['um_buy_total'].astype('float')\n",
    "\n",
    "    print(user_merchant_feature.columns.tolist())\n",
    "    return user_merchant_feature   "
   ]
  },
  {
   "cell_type": "code",
   "execution_count": 44,
   "metadata": {},
   "outputs": [],
   "source": [
    "def featureProcess(feature, train, test):  \n",
    "    user_feature = UserFeature(feature)\n",
    "    merchant_feature = MerchantFeature(feature)\n",
    "    user_merchant_feature = UserMerchantFeature(feature)\n",
    "    \n",
    "    train = pd.merge(train, user_feature, on = 'User_id', how = 'left')\n",
    "    train = pd.merge(train, merchant_feature, on = 'Merchant_id', how = 'left')\n",
    "    train = pd.merge(train, user_merchant_feature, on = ['User_id', 'Merchant_id'], how = 'left')\n",
    "    train = train.fillna(0)\n",
    "    \n",
    "    test = pd.merge(test, user_feature, on = 'User_id', how = 'left')\n",
    "    test = pd.merge(test, merchant_feature, on = 'Merchant_id', how = 'left')\n",
    "    test = pd.merge(test, user_merchant_feature, on = ['User_id', 'Merchant_id'], how = 'left')\n",
    "    test = test.fillna(0)\n",
    "    \n",
    "    return train, test"
   ]
  },
  {
   "cell_type": "code",
   "execution_count": 47,
   "metadata": {},
   "outputs": [
    {
     "name": "stdout",
     "output_type": "stream",
     "text": [
      "['User_id', 'u_rec_count', 'u_con_count', 'u_con_m_count', 'u_man_con_thre_mean', 'u_man_con_thre_max', 'u_man_con_thre_min', 'u_con_dis_rate_mean', 'u_con_dis_rate_max', 'u_con_dis_rate_min', 'u_con_dist_mean', 'u_con_dist_max', 'u_con_dist_min', 'u_manjian_rec_count', 'u_manjian_con_count', 'u_interval_mean', 'u_interval_max', 'u_interval_min', 'u_rec_con_rate', 'u_manjian_rate', 'u_manjian_con_per']\n",
      "['Merchant_id', 'm_rec_count', 'm_con_count', 'm_con_dis_rate_mean', 'm_con_dis_rate_max', 'm_con_dis_rate_min', 'm_con_u_count', 'm_con_c_count', 'm_con_dist_mean', 'm_con_dist_max', 'm_con_dist_min', 'm_manjian_rec_count', 'm_manjian_con_count', 'm_man_con_thre_mean', 'm_man_con_thre_max', 'm_man_con_thre_min', 'm_interval_mean', 'm_interval_max', 'm_interval_min', 'm_rec_con_rate', 'm_manjian_rate', 'm_manjian_con_per']\n"
     ]
    },
    {
     "name": "stderr",
     "output_type": "stream",
     "text": [
      "C:\\Users\\skynet\\Anaconda3\\lib\\site-packages\\ipykernel_launcher.py:23: SettingWithCopyWarning: \n",
      "A value is trying to be set on a copy of a slice from a DataFrame.\n",
      "Try using .loc[row_indexer,col_indexer] = value instead\n",
      "\n",
      "See the caveats in the documentation: http://pandas.pydata.org/pandas-docs/stable/indexing.html#indexing-view-versus-copy\n"
     ]
    },
    {
     "name": "stdout",
     "output_type": "stream",
     "text": [
      "['User_id', 'Merchant_id', 'um_buy_total', 'um_rec', 'um_buy_use_coupon', 'um_any', 'um_buy_common', 'um_coupon_transfer_rate', 'um_coupon_buy_rate', 'um_rate', 'um_common_buy_rate']\n",
      "['User_id', 'ou_click_count', 'ou_buy_count', 'ou_rec_count', 'ou_con_count', 'ou_rec_con_rate']\n"
     ]
    }
   ],
   "source": [
    "train, test = featureProcess(feature, data, off_test)"
   ]
  },
  {
   "cell_type": "code",
   "execution_count": 48,
   "metadata": {},
   "outputs": [],
   "source": [
    "features_name = [x for x in train.columns if x not in ['User_id','Merchant_id','Coupon_id','Date','Date_received','day_of_week','Target']]"
   ]
  },
  {
   "cell_type": "code",
   "execution_count": 32,
   "metadata": {},
   "outputs": [],
   "source": [
    "from sklearn.model_selection import train_test_split,cross_val_score\n",
    "from sklearn.metrics import log_loss,roc_auc_score, auc, roc_curve"
   ]
  },
  {
   "cell_type": "code",
   "execution_count": 49,
   "metadata": {},
   "outputs": [],
   "source": [
    "trainSub, validSub = train_test_split(train, test_size = 0.2, stratify = train['Target'], random_state=100)"
   ]
  },
  {
   "cell_type": "code",
   "execution_count": 34,
   "metadata": {},
   "outputs": [],
   "source": [
    "import lightgbm as lgb"
   ]
  },
  {
   "cell_type": "code",
   "execution_count": 52,
   "metadata": {},
   "outputs": [
    {
     "data": {
      "text/plain": [
       "LGBMClassifier(boosting_type='gbdt', class_weight=None, colsample_bytree=0.7,\n",
       "        early_stop=50, importance_type='split', learning_rate=0.01,\n",
       "        max_depth=5, metric='auc', min_child_samples=20,\n",
       "        min_child_weight=0.001, min_split_gain=0.0, n_estimators=5000,\n",
       "        n_jobs=-1, num_leaves=3, objective='binary', random_state=None,\n",
       "        reg_alpha=0.0, reg_lambda=0.0, silent=True, sub_feature=0.7,\n",
       "        subsample=1.0, subsample_for_bin=200000, subsample_freq=0,\n",
       "        verbose=-1)"
      ]
     },
     "execution_count": 52,
     "metadata": {},
     "output_type": "execute_result"
    }
   ],
   "source": [
    "model = lgb.LGBMClassifier(\n",
    "                    learning_rate = 0.01,\n",
    "                    boosting_type = 'gbdt',\n",
    "                    objective = 'binary',\n",
    "                    metric = 'auc',\n",
    "                    max_depth = 5,\n",
    "                    sub_feature = 0.7,\n",
    "                    num_leaves = 3,\n",
    "                    colsample_bytree = 0.7,\n",
    "                    n_estimators = 5000,\n",
    "                    early_stop = 50,\n",
    "                    verbose = -1)\n",
    "model.fit(trainSub[features_name], trainSub['Target'])"
   ]
  },
  {
   "cell_type": "code",
   "execution_count": 53,
   "metadata": {},
   "outputs": [
    {
     "name": "stderr",
     "output_type": "stream",
     "text": [
      "C:\\Users\\skynet\\Anaconda3\\lib\\site-packages\\ipykernel_launcher.py:1: SettingWithCopyWarning: \n",
      "A value is trying to be set on a copy of a slice from a DataFrame.\n",
      "Try using .loc[row_indexer,col_indexer] = value instead\n",
      "\n",
      "See the caveats in the documentation: http://pandas.pydata.org/pandas-docs/stable/indexing.html#indexing-view-versus-copy\n",
      "  \"\"\"Entry point for launching an IPython kernel.\n"
     ]
    },
    {
     "name": "stdout",
     "output_type": "stream",
     "text": [
      "0.6291365455676013\n"
     ]
    }
   ],
   "source": [
    "validSub['pred_prob'] = model.predict_proba(validSub[features_name])[:,1]\n",
    "validgroup = validSub.groupby(['Coupon_id'])\n",
    "aucs = []\n",
    "for i in validgroup:\n",
    "    tmpdf = i[1] \n",
    "    if len(tmpdf['Target'].unique()) != 2:\n",
    "        continue\n",
    "    fpr, tpr, thresholds = roc_curve(tmpdf['Target'], tmpdf['pred_prob'], pos_label=1)\n",
    "    aucs.append(auc(fpr, tpr))\n",
    "print(np.average(aucs))"
   ]
  },
  {
   "cell_type": "code",
   "execution_count": 54,
   "metadata": {},
   "outputs": [
    {
     "data": {
      "text/html": [
       "<div>\n",
       "<style scoped>\n",
       "    .dataframe tbody tr th:only-of-type {\n",
       "        vertical-align: middle;\n",
       "    }\n",
       "\n",
       "    .dataframe tbody tr th {\n",
       "        vertical-align: top;\n",
       "    }\n",
       "\n",
       "    .dataframe thead th {\n",
       "        text-align: right;\n",
       "    }\n",
       "</style>\n",
       "<table border=\"1\" class=\"dataframe\">\n",
       "  <thead>\n",
       "    <tr style=\"text-align: right;\">\n",
       "      <th></th>\n",
       "      <th>User_id</th>\n",
       "      <th>Coupon_id</th>\n",
       "      <th>Date_received</th>\n",
       "      <th>Target</th>\n",
       "    </tr>\n",
       "  </thead>\n",
       "  <tbody>\n",
       "    <tr>\n",
       "      <th>0</th>\n",
       "      <td>4129537</td>\n",
       "      <td>9983</td>\n",
       "      <td>20160712</td>\n",
       "      <td>0.015667</td>\n",
       "    </tr>\n",
       "    <tr>\n",
       "      <th>1</th>\n",
       "      <td>6949378</td>\n",
       "      <td>3429</td>\n",
       "      <td>20160706</td>\n",
       "      <td>0.126799</td>\n",
       "    </tr>\n",
       "    <tr>\n",
       "      <th>2</th>\n",
       "      <td>2166529</td>\n",
       "      <td>6928</td>\n",
       "      <td>20160727</td>\n",
       "      <td>0.008251</td>\n",
       "    </tr>\n",
       "    <tr>\n",
       "      <th>3</th>\n",
       "      <td>2166529</td>\n",
       "      <td>1808</td>\n",
       "      <td>20160727</td>\n",
       "      <td>0.008251</td>\n",
       "    </tr>\n",
       "    <tr>\n",
       "      <th>4</th>\n",
       "      <td>6172162</td>\n",
       "      <td>6500</td>\n",
       "      <td>20160708</td>\n",
       "      <td>0.057825</td>\n",
       "    </tr>\n",
       "  </tbody>\n",
       "</table>\n",
       "</div>"
      ],
      "text/plain": [
       "   User_id  Coupon_id  Date_received    Target\n",
       "0  4129537       9983       20160712  0.015667\n",
       "1  6949378       3429       20160706  0.126799\n",
       "2  2166529       6928       20160727  0.008251\n",
       "3  2166529       1808       20160727  0.008251\n",
       "4  6172162       6500       20160708  0.057825"
      ]
     },
     "execution_count": 54,
     "metadata": {},
     "output_type": "execute_result"
    }
   ],
   "source": [
    "# test prediction for submission\n",
    "y_test_pred = model.predict_proba(test[features_name])\n",
    "submit = test[['User_id','Coupon_id','Date_received']].copy()\n",
    "submit['Target'] = y_test_pred[:,1]\n",
    "submit.to_csv('submit8.csv', index=False, header=False)\n",
    "submit.head()"
   ]
  },
  {
   "cell_type": "code",
   "execution_count": null,
   "metadata": {},
   "outputs": [],
   "source": []
  }
 ],
 "metadata": {
  "kernelspec": {
   "display_name": "Python 3",
   "language": "python",
   "name": "python3"
  },
  "language_info": {
   "codemirror_mode": {
    "name": "ipython",
    "version": 3
   },
   "file_extension": ".py",
   "mimetype": "text/x-python",
   "name": "python",
   "nbconvert_exporter": "python",
   "pygments_lexer": "ipython3",
   "version": "3.7.3"
  }
 },
 "nbformat": 4,
 "nbformat_minor": 2
}
